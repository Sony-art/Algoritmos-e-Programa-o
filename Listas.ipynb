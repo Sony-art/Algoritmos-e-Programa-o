{
  "nbformat": 4,
  "nbformat_minor": 0,
  "metadata": {
    "kernelspec": {
      "display_name": "Python 3",
      "language": "python",
      "name": "python3"
    },
    "language_info": {
      "codemirror_mode": {
        "name": "ipython",
        "version": 3
      },
      "file_extension": ".py",
      "mimetype": "text/x-python",
      "name": "python",
      "nbconvert_exporter": "python",
      "pygments_lexer": "ipython3",
      "version": "3.6.8"
    },
    "colab": {
      "provenance": [],
      "include_colab_link": true
    }
  },
  "cells": [
    {
      "cell_type": "markdown",
      "metadata": {
        "id": "view-in-github",
        "colab_type": "text"
      },
      "source": [
        "<a href=\"https://colab.research.google.com/github/Sony-art/Algoritmos-e-Programacao/blob/master/Listas.ipynb\" target=\"_parent\"><img src=\"https://colab.research.google.com/assets/colab-badge.svg\" alt=\"Open In Colab\"/></a>"
      ]
    },
    {
      "cell_type": "markdown",
      "metadata": {
        "id": "EVopA4gD1__6"
      },
      "source": [
        "#Vetores (Listas) em Python"
      ]
    },
    {
      "cell_type": "markdown",
      "metadata": {
        "id": "2TUr7v472AAB"
      },
      "source": [
        "<hr>"
      ]
    },
    {
      "cell_type": "markdown",
      "source": [
        "Até o momento, trabalhamos com variáveis dos tipos `int`, `float`, `string` e `boolean`.\n",
        "\n",
        "Cada uma destas variáveis representa uma posição de memória capaz de armazenar um, e somente um valor daquele tipo a cada momento. Por este motivo são chamadas de variáveis simples ou escalares.\n",
        "\n",
        "Mas e se precisarmos armazenar não somente um, mas um conjunto de valores?\n",
        "\n",
        "No exemplo abaixo, utilizamos o comando `for` para ler um conjunto de notas de uma turma de N alunos e calcular a média da turma. Observe que sempre que lemos uma nota, sobrescrevemos o valor da nota anterior. Deste modo, se após calcular a média desejarmos exibir a lista de notas que estão acima da média, teremos que ler todos os valores novamente."
      ],
      "metadata": {
        "id": "9Aq0uKH1KL8t"
      }
    },
    {
      "cell_type": "code",
      "metadata": {
        "id": "pklJaT2kC-qD"
      },
      "source": [
        "somaNotas = 0\n",
        "N = 5\n",
        "print(\"Digite as notas: \")\n",
        "for i in range(N):\n",
        "  nota = float(input())\n",
        "  somaNotas += nota\n",
        "media = somaNotas / N\n",
        "print(f\"Média: {media}\")\n",
        "\n",
        "#Como encontrar as notas individuais que estão acima da média da turma?\n",
        "print(\"Digite as notas novamente: \")\n",
        "for i in range(N):\n",
        "  nota = float(input())\n",
        "  if(nota >= media):\n",
        "    print(f\"Nota acima da média: {nota}\")"
      ],
      "execution_count": null,
      "outputs": []
    },
    {
      "cell_type": "markdown",
      "metadata": {
        "id": "kxFKFkgUMqIC"
      },
      "source": [
        "Para lidar com este tipo de situação, as linguagens de programação possuem estruturas capazes de armazenar mais de um valor a cada momento.\n",
        "\n",
        "Os **vetores** são estruturas capazes de armazenar um conjunto de valores em posições identificadas por índices numéricos sequenciais. São conhecidos também como **arrays** (arranjos).\n",
        "\n",
        "Em Python, vetores são chamados de **listas**. Uma variável do tipo lista pode conter valores de todos os outros tipos (int, float, str ou outras listas). Porém, na maioria das linguagens de programação, um vetor somente pode armazenar valores do mesmo tipo.\n"
      ]
    },
    {
      "cell_type": "markdown",
      "metadata": {
        "id": "FVAXVYQyJKB5"
      },
      "source": [
        "O índice (index) define a posição de cada elemento dentro do vetor. O índice 0 representa o primeiro elemento. Exemplo:"
      ]
    },
    {
      "cell_type": "markdown",
      "metadata": {
        "id": "u4tu694J2AAH"
      },
      "source": [
        "<img src=\"https://s3-api.us-geo.objectstorage.softlayer.net/cf-courses-data/CognitiveClass/PY0101EN/Chapter%202/Images/ListsIndex.png\" width=\"500\" />"
      ]
    },
    {
      "cell_type": "markdown",
      "metadata": {
        "id": "gDpHfWRkJsAR"
      },
      "source": [
        "Criando uma primeira lista:"
      ]
    },
    {
      "cell_type": "code",
      "metadata": {
        "id": "3MAdHvr2Mvf-",
        "outputId": "5809162a-f6a2-4b0e-ecc9-0633efe05333",
        "colab": {
          "base_uri": "https://localhost:8080/"
        }
      },
      "source": [
        "# Criando uma lista\n",
        "compras = [\"arroz\", \"lentilha\", \"feijão\"]\n",
        "print(compras)"
      ],
      "execution_count": null,
      "outputs": [
        {
          "output_type": "stream",
          "name": "stdout",
          "text": [
            "['arroz', 'lentilha', 'feijão']\n"
          ]
        }
      ]
    },
    {
      "cell_type": "markdown",
      "metadata": {
        "id": "ITOEtfltJvaP"
      },
      "source": [
        "Algumas operações com listas:"
      ]
    },
    {
      "cell_type": "code",
      "metadata": {
        "id": "VwUieRbu2ABO"
      },
      "source": [
        "# Adicionando novos elementos\n",
        "compras.append(\"aveia\")\n",
        "print(compras)"
      ],
      "execution_count": null,
      "outputs": []
    },
    {
      "cell_type": "code",
      "source": [
        "# Acessando um elemento pelo índice\n",
        "print(compras[2])"
      ],
      "metadata": {
        "id": "9MOcU3Uzbkhj",
        "outputId": "40b80e95-f8b8-44e3-8c3b-8e045523c190",
        "colab": {
          "base_uri": "https://localhost:8080/"
        }
      },
      "execution_count": null,
      "outputs": [
        {
          "output_type": "stream",
          "name": "stdout",
          "text": [
            "feijão\n"
          ]
        }
      ]
    },
    {
      "cell_type": "code",
      "metadata": {
        "id": "u1hCSVnr2ABT"
      },
      "source": [
        "# Alterando o valor de um elemento através do índice\n",
        "compras[2] = \"feijão carioca\"\n",
        "print(compras)"
      ],
      "execution_count": null,
      "outputs": []
    },
    {
      "cell_type": "code",
      "metadata": {
        "id": "NSWNK2QO2ABY",
        "outputId": "313e01c9-c05d-493d-ae0f-8f86a03828f2",
        "colab": {
          "base_uri": "https://localhost:8080/"
        }
      },
      "source": [
        "# Descobrindo o número de elementos de uma lista\n",
        "tamanho = len(compras)\n",
        "print(tamanho)"
      ],
      "execution_count": null,
      "outputs": [
        {
          "output_type": "stream",
          "name": "stdout",
          "text": [
            "3\n"
          ]
        }
      ]
    },
    {
      "cell_type": "markdown",
      "source": [
        "Agora vamos ver como ficaria a solução do primeiro exemplo desta aula, agora usando listas:"
      ],
      "metadata": {
        "id": "Ykh92jQGQAFR"
      }
    },
    {
      "cell_type": "code",
      "metadata": {
        "id": "BTa5G4qoXcJb",
        "colab": {
          "base_uri": "https://localhost:8080/"
        },
        "outputId": "f967ab61-49bc-4c7e-a3d2-726f04018b00"
      },
      "source": [
        "notas = []\n",
        "N = 5\n",
        "somaNotas = 0.0\n",
        "print(\"Digite as notas: \")\n",
        "for i in range(N):\n",
        "  nota = float(input())\n",
        "  notas.append(nota)\n",
        "  somaNotas += nota\n",
        "media = somaNotas/N\n",
        "print(f\"Média: {media}\")\n",
        "\n",
        "#Como encontrar as notas individuais que estão acima da média da turma?\n",
        "print(\"As seguintes notas estão acima da média:\")\n",
        "for i in range(N):\n",
        "  if notas[i] >= media:\n",
        "    print(notas[i])"
      ],
      "execution_count": null,
      "outputs": [
        {
          "output_type": "stream",
          "name": "stdout",
          "text": [
            "Digite as notas: \n",
            "5\n",
            "6\n",
            "7\n",
            "8\n",
            "9\n",
            "Média: 7.0\n",
            "As seguintes notas estão acima da média:\n",
            "7.0\n",
            "8.0\n",
            "9.0\n"
          ]
        }
      ]
    },
    {
      "cell_type": "markdown",
      "metadata": {
        "id": "DRbDRdP32ACM"
      },
      "source": [
        "##Exercícios"
      ]
    },
    {
      "cell_type": "markdown",
      "metadata": {
        "id": "6lYdJiy72ACO"
      },
      "source": [
        "1-\n",
        " Crie uma lista L, com os seguintes elementos: <code>1</code>, <code>hello</code> e <code>10</code>."
      ]
    },
    {
      "cell_type": "code",
      "metadata": {
        "id": "beII12YY2ACP",
        "outputId": "33188f66-65de-4a2e-c444-13b8cbfef620",
        "colab": {
          "base_uri": "https://localhost:8080/"
        }
      },
      "source": [
        "l= [\"1\", \"hello\", \"10\"]\n",
        "print(l)"
      ],
      "execution_count": null,
      "outputs": [
        {
          "output_type": "stream",
          "name": "stdout",
          "text": [
            "['1', 'hello', '10']\n"
          ]
        }
      ]
    },
    {
      "cell_type": "markdown",
      "metadata": {
        "id": "1HzgQgqS2ACW"
      },
      "source": [
        "2 - Exiba o valor armazenado na posição 1 da lista L.\n"
      ]
    },
    {
      "cell_type": "code",
      "metadata": {
        "id": "vNkpO4DJNY1S",
        "outputId": "a83c6adf-c8db-442f-e283-929806652b0a",
        "colab": {
          "base_uri": "https://localhost:8080/"
        }
      },
      "source": [
        "l=[\"1\",\"hello\",\"10\"]\n",
        "print(l[1])"
      ],
      "execution_count": null,
      "outputs": [
        {
          "output_type": "stream",
          "name": "stdout",
          "text": [
            "hello\n"
          ]
        }
      ]
    },
    {
      "cell_type": "markdown",
      "metadata": {
        "id": "ZZz2n8LgNtsD"
      },
      "source": [
        "3 -\n",
        "Compute o tamanho da lista L."
      ]
    },
    {
      "cell_type": "code",
      "metadata": {
        "id": "Uxv20hqxNt_-",
        "outputId": "fd0a1727-d5a6-457b-dcd8-7e62baf0fe7d",
        "colab": {
          "base_uri": "https://localhost:8080/"
        }
      },
      "source": [
        "print(len(l))"
      ],
      "execution_count": null,
      "outputs": [
        {
          "output_type": "stream",
          "name": "stdout",
          "text": [
            "3\n"
          ]
        }
      ]
    },
    {
      "cell_type": "markdown",
      "metadata": {
        "id": "ILZ_ezcBWV3u"
      },
      "source": [
        "4 - Leia seu nome e o nome dos seus pais e armazene em uma lista."
      ]
    },
    {
      "cell_type": "code",
      "metadata": {
        "id": "EBK-UknoWU1R",
        "outputId": "74ef72d1-35af-4ec0-e43e-95e9d128834c",
        "colab": {
          "base_uri": "https://localhost:8080/"
        }
      },
      "source": [
        "\n",
        "pais= []\n",
        "pais.append(input(\"informe o nome do pai: \"))\n",
        "pais.append(input(\"informe o nome da mãe: \"))\n",
        "print(pais)"
      ],
      "execution_count": null,
      "outputs": [
        {
          "output_type": "stream",
          "name": "stdout",
          "text": [
            "informe o nome do pai: Wilson\n",
            "informe o nome da mãe: Rosemane\n",
            "['Wilson', 'Rosemane']\n"
          ]
        }
      ]
    },
    {
      "cell_type": "markdown",
      "metadata": {
        "id": "whDylBXwONRi"
      },
      "source": [
        "#Vetores e o loop For\n"
      ]
    },
    {
      "cell_type": "markdown",
      "source": [
        "Podemos percorrer facilmente os elementos de um vetor usando o comando `for`.\n",
        "\n",
        "No Python, o `for` pode ser usado de duas formas:\n",
        "* para iterar sobre os próprios elementos do vetor;\n",
        "* para iterar sobre os índices."
      ],
      "metadata": {
        "id": "L4Y7P4HSTWHa"
      }
    },
    {
      "cell_type": "code",
      "metadata": {
        "id": "2BvxvXA6OTjX",
        "outputId": "b7db8b71-f8dc-408e-ec90-a79edfa0ac9b",
        "colab": {
          "base_uri": "https://localhost:8080/"
        }
      },
      "source": [
        "numeros = [0,1,2,3,4,5,6,7,8,9,10]\n",
        "for num in numeros:\n",
        "  print(num * 6)"
      ],
      "execution_count": null,
      "outputs": [
        {
          "output_type": "stream",
          "name": "stdout",
          "text": [
            "0\n",
            "6\n",
            "12\n",
            "18\n",
            "24\n",
            "30\n",
            "36\n",
            "42\n",
            "48\n",
            "54\n",
            "60\n"
          ]
        }
      ]
    },
    {
      "cell_type": "markdown",
      "source": [
        "No exemplo acima, a cada iteração do laço `for`, a variável `num` recebe a cópia de um dos elementos do vetor.\n",
        "\n",
        "Já no exemplo abaixo, o `i` está sendo usado para percorrer os índices do vetor. Deste modo, para acessar o conteúdo correspondente àquele índice, devemos informar o índice entre chaves."
      ],
      "metadata": {
        "id": "AM3fTrovT-qG"
      }
    },
    {
      "cell_type": "code",
      "metadata": {
        "id": "pCGUUWKuOQAy",
        "outputId": "2bd5e0ce-9c58-46e3-d9e4-5be099c9aeed",
        "colab": {
          "base_uri": "https://localhost:8080/"
        }
      },
      "source": [
        "vogais = ['a', 'e', 'i', 'o', 'u']\n",
        "for i in range(5):\n",
        "  print(vogais[i])"
      ],
      "execution_count": null,
      "outputs": [
        {
          "output_type": "stream",
          "name": "stdout",
          "text": [
            "a\n",
            "e\n",
            "i\n",
            "o\n",
            "u\n"
          ]
        }
      ]
    },
    {
      "cell_type": "markdown",
      "metadata": {
        "id": "ZQ8vgyh2PNO9"
      },
      "source": [
        "## Operações com Listas\n",
        "\n"
      ]
    },
    {
      "cell_type": "markdown",
      "metadata": {
        "id": "OiHWD6XUPd4O"
      },
      "source": [
        "Concatenar 2 listas:"
      ]
    },
    {
      "cell_type": "code",
      "metadata": {
        "id": "kPhF8D8-Peu2"
      },
      "source": [
        "x = [20, 40, 60, 80]\n",
        "y = [100, 120]\n",
        "z = x + y\n",
        "print(z)"
      ],
      "execution_count": null,
      "outputs": []
    },
    {
      "cell_type": "markdown",
      "metadata": {
        "id": "5r6Y1qh-R21z"
      },
      "source": [
        "Ordenar uma lista:\n"
      ]
    },
    {
      "cell_type": "code",
      "metadata": {
        "id": "LlLdOM4JR2-S"
      },
      "source": [
        "x = ['xxx','aaa','rrr','mmm']\n",
        "x.sort()\n",
        "print(x)"
      ],
      "execution_count": null,
      "outputs": []
    },
    {
      "cell_type": "markdown",
      "metadata": {
        "id": "euYcpKYuSBl2"
      },
      "source": [
        "O acesso aos índices pode ser negativo (conta as posições a partir do fim):\n"
      ]
    },
    {
      "cell_type": "code",
      "metadata": {
        "id": "_D9Hdn_sSCGl"
      },
      "source": [
        "x = [20, 40, 60, 80]\n",
        "print(x[-2])"
      ],
      "execution_count": null,
      "outputs": []
    },
    {
      "cell_type": "markdown",
      "metadata": {
        "id": "UwbqnwFmSFFk"
      },
      "source": [
        "Obtendo um subconjunto de uma lista:"
      ]
    },
    {
      "cell_type": "code",
      "metadata": {
        "id": "MhrOv9MYSFWN"
      },
      "source": [
        "x = [20, 40, 60, 80, 100, 120, 140]\n",
        "print(x[1:4])  # assim como no range, i índicie final do intervalo fica de fora\n",
        "print(x[:2])\n",
        "print(x[2:3])\n",
        "print(x[4:])\n",
        "print(x[:-3])"
      ],
      "execution_count": null,
      "outputs": []
    },
    {
      "cell_type": "markdown",
      "metadata": {
        "id": "uymUdEWxEa7v"
      },
      "source": [
        "Testar se um valor está em uma lista:"
      ]
    },
    {
      "cell_type": "code",
      "metadata": {
        "id": "85DW_bIXEaWT",
        "colab": {
          "base_uri": "https://localhost:8080/"
        },
        "outputId": "23346002-f2a4-43d0-d6dd-3d56aa9cc5b8"
      },
      "source": [
        "lista = [1,2,3,4,5]\n",
        "if 1 in lista:\n",
        "  print(\"elemento 1 está presente\")\n",
        "else:\n",
        "  print(\"elemento 1 não esta presente\")"
      ],
      "execution_count": null,
      "outputs": [
        {
          "output_type": "stream",
          "name": "stdout",
          "text": [
            "elemento 1 está presente\n"
          ]
        }
      ]
    },
    {
      "cell_type": "markdown",
      "metadata": {
        "id": "SJWwn3_Mb6pa"
      },
      "source": [
        "Remover elemento de uma lista:"
      ]
    },
    {
      "cell_type": "code",
      "metadata": {
        "id": "ab9KR5Hyb8lK",
        "colab": {
          "base_uri": "https://localhost:8080/"
        },
        "outputId": "9a3f7102-736d-4b1a-9a2b-097b93243083"
      },
      "source": [
        "# Removendo um elemento pelo seu valor\n",
        "lista=['joao','maria','jose',4,5,6]\n",
        "lista.remove('joao')\n",
        "print(lista)"
      ],
      "execution_count": null,
      "outputs": [
        {
          "output_type": "stream",
          "name": "stdout",
          "text": [
            "['maria', 'jose', 4, 5, 6]\n"
          ]
        }
      ]
    },
    {
      "cell_type": "code",
      "source": [
        "# Removendo um elemento pelo seu índice\n",
        "lista=['joao','maria','jose',4,5,6]\n",
        "lista.pop(1)\n",
        "print(lista)"
      ],
      "metadata": {
        "id": "cXJG-UECYCdw",
        "colab": {
          "base_uri": "https://localhost:8080/"
        },
        "outputId": "6fd9fbf3-da9d-404f-deb1-8d4fbaaaab74"
      },
      "execution_count": null,
      "outputs": [
        {
          "output_type": "stream",
          "name": "stdout",
          "text": [
            "['joao', 'jose', 4, 5, 6]\n"
          ]
        }
      ]
    },
    {
      "cell_type": "markdown",
      "source": [
        "Contando as ocorrências de um valor na lista:"
      ],
      "metadata": {
        "id": "oXAR6FC5ghaJ"
      }
    },
    {
      "cell_type": "code",
      "source": [
        "A = [22, 0, 15, 0, 10, 50, 99, 0]\n",
        "zeros = A.count(0)\n",
        "print(zeros)"
      ],
      "metadata": {
        "id": "FOrlwREmYvhU"
      },
      "execution_count": null,
      "outputs": []
    },
    {
      "cell_type": "markdown",
      "metadata": {
        "id": "6wRgEmi2D7jc"
      },
      "source": [
        "Outras operações de manipulação de lista poderão ser encontradas na [documentação](https://docs.python.org/3/tutorial/datastructures.html)"
      ]
    },
    {
      "cell_type": "markdown",
      "metadata": {
        "id": "RHRKngGRQ_wE"
      },
      "source": [
        "##Exercícios"
      ]
    },
    {
      "cell_type": "markdown",
      "metadata": {
        "id": "egP-sMCKOarC"
      },
      "source": [
        "1 - Faça um código capaz de carregar 5 valores inteiros definidos pelo usuário em uma lista."
      ]
    },
    {
      "cell_type": "code",
      "metadata": {
        "id": "sLBIcnacObuy",
        "colab": {
          "base_uri": "https://localhost:8080/"
        },
        "outputId": "16f066a3-8cb4-41a1-8f42-213f07cff6df"
      },
      "source": [
        "valores = []\n",
        "v = 5\n",
        "for i in range (v):\n",
        "  valores.append(int (input ()))\n",
        "print (valores)\n"
      ],
      "execution_count": null,
      "outputs": [
        {
          "output_type": "stream",
          "name": "stdout",
          "text": [
            "20\n",
            "30\n",
            "40\n",
            "50\n",
            "60\n",
            "[20, 30, 40, 50, 60]\n"
          ]
        }
      ]
    },
    {
      "cell_type": "markdown",
      "metadata": {
        "id": "nwPUSsFMVLYr"
      },
      "source": [
        "2 - A partir do vetor da questão anterior, percorra o vetor e imprima apenas os valores pares.\n"
      ]
    },
    {
      "cell_type": "code",
      "metadata": {
        "id": "Em_mXl_1VRas",
        "colab": {
          "base_uri": "https://localhost:8080/"
        },
        "outputId": "0e643f84-8bfd-4250-cd7a-4e29e63bbaf0"
      },
      "source": [
        "valores = []\n",
        "v= 5\n",
        "for i in range (v):\n",
        "  valores.append(int(input()))\n",
        "  if valores[i]%2==0 :\n",
        "    print(valores[i])\n",
        ""
      ],
      "execution_count": null,
      "outputs": [
        {
          "output_type": "stream",
          "name": "stdout",
          "text": [
            "0\n",
            "0\n",
            "1\n",
            "2\n",
            "2\n",
            "3\n",
            "4\n",
            "4\n"
          ]
        }
      ]
    },
    {
      "cell_type": "markdown",
      "metadata": {
        "id": "jLW266BAPxu5"
      },
      "source": [
        "3 - Leia um número indefinido de valores, até que o usuário digite -1. Em seguida, mostre qual o menor e qual o maior valor do conjunto."
      ]
    },
    {
      "cell_type": "code",
      "metadata": {
        "id": "HXzHY1XFRECw",
        "colab": {
          "base_uri": "https://localhost:8080/"
        },
        "outputId": "cc327ae3-2c6b-4b0d-913e-1831b7c9b4da"
      },
      "source": [
        "valores = []\n",
        "while True :\n",
        "  valor = int(input())\n",
        "  if valor == -1 :\n",
        "      break\n",
        "  valores.append(valor)\n",
        "maior=max(valores)\n",
        "menor = min(valores)\n",
        "print (f\"o maior eh {maior} \\n o menor eh {menor}\")"
      ],
      "execution_count": null,
      "outputs": [
        {
          "output_type": "stream",
          "name": "stdout",
          "text": [
            "4\n",
            "5\n",
            "6\n",
            "7\n",
            "89\n",
            "-1\n",
            "o maior eh 89 \n",
            " o menor eh 4\n"
          ]
        }
      ]
    },
    {
      "cell_type": "markdown",
      "metadata": {
        "id": "hddQhPYVP4zl"
      },
      "source": [
        "\n",
        "4 - Faça um código que receba um vetor e um número N e remova o número N caso ele esteja presente no vetor. Caso não esteja presente, reporte uma mensagem.\n"
      ]
    },
    {
      "cell_type": "code",
      "metadata": {
        "id": "7rDyCDt9RE91",
        "colab": {
          "base_uri": "https://localhost:8080/"
        },
        "outputId": "5d79cc35-d7f2-4c99-830f-bb1aca200c65"
      },
      "source": [
        "v = [1,2,3,4,5,6,7,8,9]\n",
        "N = int (input(\"informe um numero \"))\n",
        "if N in v :\n",
        "    v.remove (N)\n",
        "    print (v)\n",
        "else :\n",
        "    print (f\" {N} nao esta na lista\")"
      ],
      "execution_count": null,
      "outputs": [
        {
          "output_type": "stream",
          "name": "stdout",
          "text": [
            "informe um numero 8\n",
            "[1, 2, 3, 4, 5, 6, 7, 9]\n"
          ]
        }
      ]
    },
    {
      "cell_type": "markdown",
      "source": [
        "5 - Faça um código que receba 2 vetores e encontre os elementos em comum. Ex:\n",
        "\n",
        "    a = [1, 1, 2, 3, 5, 8, 13, 21, 34, 55, 89]\n",
        "    b = [1, 2, 3, 4, 5, 6, 7, 8, 9, 10, 11, 12, 13]\n",
        "\n",
        "Saída: 1,2,3,5,8,13"
      ],
      "metadata": {
        "id": "UqjD4XR8dLmK"
      }
    },
    {
      "cell_type": "code",
      "source": [
        "a = [1, 1, 2, 3, 5, 8, 13, 21, 34, 55, 89]\n",
        "b = [1, 2, 3, 4, 5, 6, 7, 8, 9, 10, 11, 12, 13]\n",
        "if a[0]=b[0] :\n",
        ""
      ],
      "metadata": {
        "id": "ZdCOvXOGdPey"
      },
      "execution_count": null,
      "outputs": []
    },
    {
      "cell_type": "markdown",
      "source": [
        "6 - Crie um programa que gere automaticamente uma lista de 100 números aleatórios. Em seguida, percorra a lista identificando quais valores estão duplicados. Insira os elementos duplicados em outra lista e imprima-a ao final do programa."
      ],
      "metadata": {
        "id": "ZKRLQZPttkMx"
      }
    },
    {
      "cell_type": "code",
      "metadata": {
        "id": "TioWtR9-RFd7"
      },
      "source": [],
      "execution_count": null,
      "outputs": []
    },
    {
      "cell_type": "markdown",
      "metadata": {
        "id": "wE9J2RvRP6xc"
      },
      "source": [
        "7 - (Desafio) Faça um programa que leia cinco (5) valores em uma lista e, ao final, imprima-os de forma ordenada **sem usar a função sort()**.\n",
        "\n",
        "\n"
      ]
    },
    {
      "cell_type": "code",
      "source": [
        "lista= []\n",
        "flag = False\n",
        "for i in range(3):\n",
        "  tamanho = len (lisa)\n",
        "  n = int (input (\"digite um numero : \"))\n",
        "  if tamanho > 0 :\n",
        "    for y in ange (tamanho):\n",
        "      if n <= lista(y):\n",
        "        lista.insert(y,n)\n",
        "        flag = True\n",
        "        break\n",
        "  if i == 0 or flag == False :\n",
        "    lista.append(n)\n",
        "  else :\n",
        "    print (lista)"
      ],
      "metadata": {
        "id": "-yRY8LZRucIE",
        "colab": {
          "base_uri": "https://localhost:8080/",
          "height": 237
        },
        "outputId": "39f2d9a0-9ba0-4e65-b30d-058c6a962330"
      },
      "execution_count": null,
      "outputs": [
        {
          "output_type": "error",
          "ename": "NameError",
          "evalue": "ignored",
          "traceback": [
            "\u001b[0;31m---------------------------------------------------------------------------\u001b[0m",
            "\u001b[0;31mNameError\u001b[0m                                 Traceback (most recent call last)",
            "\u001b[0;32m<ipython-input-7-32e4cb0ede05>\u001b[0m in \u001b[0;36m<cell line: 3>\u001b[0;34m()\u001b[0m\n\u001b[1;32m      2\u001b[0m \u001b[0mflag\u001b[0m \u001b[0;34m=\u001b[0m \u001b[0;32mFalse\u001b[0m\u001b[0;34m\u001b[0m\u001b[0;34m\u001b[0m\u001b[0m\n\u001b[1;32m      3\u001b[0m \u001b[0;32mfor\u001b[0m \u001b[0mi\u001b[0m \u001b[0;32min\u001b[0m \u001b[0mrange\u001b[0m\u001b[0;34m(\u001b[0m\u001b[0;36m3\u001b[0m\u001b[0;34m)\u001b[0m\u001b[0;34m:\u001b[0m\u001b[0;34m\u001b[0m\u001b[0;34m\u001b[0m\u001b[0m\n\u001b[0;32m----> 4\u001b[0;31m   \u001b[0mtamanho\u001b[0m \u001b[0;34m=\u001b[0m \u001b[0mlen\u001b[0m \u001b[0;34m(\u001b[0m\u001b[0mlisa\u001b[0m\u001b[0;34m)\u001b[0m\u001b[0;34m\u001b[0m\u001b[0;34m\u001b[0m\u001b[0m\n\u001b[0m\u001b[1;32m      5\u001b[0m   \u001b[0mn\u001b[0m \u001b[0;34m=\u001b[0m \u001b[0mint\u001b[0m \u001b[0;34m(\u001b[0m\u001b[0minput\u001b[0m \u001b[0;34m(\u001b[0m\u001b[0;34m\"digite um numero : \"\u001b[0m\u001b[0;34m)\u001b[0m\u001b[0;34m)\u001b[0m\u001b[0;34m\u001b[0m\u001b[0;34m\u001b[0m\u001b[0m\n\u001b[1;32m      6\u001b[0m   \u001b[0;32mif\u001b[0m \u001b[0mtamanho\u001b[0m \u001b[0;34m>\u001b[0m \u001b[0;36m0\u001b[0m \u001b[0;34m:\u001b[0m\u001b[0;34m\u001b[0m\u001b[0;34m\u001b[0m\u001b[0m\n",
            "\u001b[0;31mNameError\u001b[0m: name 'lisa' is not defined"
          ]
        }
      ]
    }
  ]
}