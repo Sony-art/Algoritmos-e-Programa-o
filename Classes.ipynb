{
  "nbformat": 4,
  "nbformat_minor": 0,
  "metadata": {
    "colab": {
      "provenance": [],
      "include_colab_link": true
    },
    "kernelspec": {
      "name": "python3",
      "display_name": "Python 3"
    },
    "language_info": {
      "name": "python"
    }
  },
  "cells": [
    {
      "cell_type": "markdown",
      "metadata": {
        "id": "view-in-github",
        "colab_type": "text"
      },
      "source": [
        "<a href=\"https://colab.research.google.com/github/Sony-art/Algoritmos-e-Programacao/blob/master/Classes.ipynb\" target=\"_parent\"><img src=\"https://colab.research.google.com/assets/colab-badge.svg\" alt=\"Open In Colab\"/></a>"
      ]
    },
    {
      "cell_type": "markdown",
      "metadata": {
        "id": "Jq6REpb80vEW"
      },
      "source": [
        "#Classes  em Python\n",
        "\n",
        "Estruturas (*structs*) ou registros são tipos de dados especiais definidos pelo programador cujo objetivo é armazenar dados relacionados entre si.\n",
        "Por exemplo: uma estrutura do tipo Pessoa poderia agregar dados como: nome, email, endereço, data nascimento, etc.\n",
        "\n",
        "Em Python, não temos um comando específico para declarar estruturas. Mas podemos fazer algo semelhante, por meio do conceito de **Classes** (o qual será aprofundado adiante no curso por meio do estudo da Programação Orientada a Objetos).\n",
        "\n",
        "Exemplo:\n"
      ]
    },
    {
      "cell_type": "code",
      "metadata": {
        "id": "aRTtOJ0e0rbS"
      },
      "source": [
        "#definindo uma classe\n",
        "class Carro:\n",
        "  marca = None\n",
        "  modelo = None\n",
        "  ano = None"
      ],
      "execution_count": null,
      "outputs": []
    },
    {
      "cell_type": "code",
      "metadata": {
        "id": "1tk4pUnA2g3h"
      },
      "source": [
        "#criando um objeto (instância) da classe Carro\n",
        "mycar1 = Carro()\n",
        "\n",
        "mycar1.marca = 'Peugeot'\n",
        "mycar1.modelo = 308\n",
        "mycar1.ano = 2015\n",
        "\n",
        "print(\"Marca: \", mycar1.marca)\n",
        "print(\"Modelo:\", mycar1.modelo)\n",
        "print(\"Ano:\", mycar1.ano)"
      ],
      "execution_count": null,
      "outputs": []
    },
    {
      "cell_type": "code",
      "metadata": {
        "id": "KBAsPxcJXjXZ"
      },
      "source": [
        "#criando outra instância da classe Carro\n",
        "mycar2 = Carro()\n",
        "\n",
        "mycar2.marca = 'chevrolet'\n",
        "mycar2.modelo = 'opala'\n",
        "mycar2.ano = '1978'\n",
        "\n",
        "print(\"Marca: \", mycar2.marca)\n",
        "print(\"Modelo:\", mycar2.modelo)\n",
        "print(\"Ano:\", mycar2.ano)"
      ],
      "execution_count": null,
      "outputs": []
    },
    {
      "cell_type": "markdown",
      "metadata": {
        "id": "bHBBhP4mGzGo"
      },
      "source": [
        "##Atividades"
      ]
    },
    {
      "cell_type": "markdown",
      "metadata": {
        "id": "7KbufjBV3ahh"
      },
      "source": [
        "**1**- Instancie dois novos carros e imprima seus dados."
      ]
    },
    {
      "cell_type": "code",
      "metadata": {
        "id": "LLCeKbWn4IWc"
      },
      "source": [],
      "execution_count": null,
      "outputs": []
    },
    {
      "cell_type": "markdown",
      "metadata": {
        "id": "YmwWRdPu3J27"
      },
      "source": [
        "**2** - Crie uma classe para gerar um cadastro de um usuário (nome, cpf, senha, data_nascimento) e instancie 2 usuários."
      ]
    },
    {
      "cell_type": "code",
      "metadata": {
        "id": "EQV8w6aO3aN3"
      },
      "source": [
        "class cadastro :\n",
        "  nome = None\n",
        "  cpf = 0\n",
        "  senha = None\n",
        "  data = None\n",
        "\n",
        "vetor = []\n",
        "for i in range (2):\n",
        "  c = cadastro ()\n",
        "  cadastro.nome = (input(\"\\nDigite o nome : \"))\n",
        "  cadastro.cpf = int (input (\"Digite seu cpf : \"))\n",
        "  cadastro.senha = int (input(\"Digite sua senha : \"))\n",
        "  cadastro.data = int (input (\"Digite a data de nascimento : \"))\n",
        "  vetor.append(c)\n",
        "\n",
        "\n",
        "print (cadastro.nome)\n",
        "print (cadastro.cpf)\n",
        "print (cadastro.senha)\n",
        "print (cadastro.data)"
      ],
      "execution_count": null,
      "outputs": []
    },
    {
      "cell_type": "markdown",
      "metadata": {
        "id": "8IlkU6GUG4NG"
      },
      "source": [
        "**3** - Crie uma *classe* para cadastrar produtos com nome, descrição, preço e quantidade em estoque.\n"
      ]
    },
    {
      "cell_type": "code",
      "metadata": {
        "id": "ID-cHxKVH1ZJ"
      },
      "source": [],
      "execution_count": null,
      "outputs": []
    },
    {
      "cell_type": "markdown",
      "metadata": {
        "id": "T0NqKQI2zfB6"
      },
      "source": [
        "#Criando uma lista com estruturas"
      ]
    },
    {
      "cell_type": "code",
      "metadata": {
        "id": "BD_5wzn44rix",
        "colab": {
          "base_uri": "https://localhost:8080/"
        },
        "outputId": "940ade3f-119f-4818-aa70-12353ac912e4"
      },
      "source": [
        "class Conta:\n",
        "  numero = None\n",
        "  titular = None\n",
        "  saldo = 0\n",
        "\n",
        "vetor = []\n",
        "for i in range(3):\n",
        "  c = Conta()\n",
        "  c.numero = input(\"\\nNúmero: \")\n",
        "  c.titular = input(\"Titular: \")\n",
        "  c.saldo = input(\"Saldo: \")\n",
        "  vetor.append(c)\n",
        "\n",
        "#exibindo todas as contas\n",
        "print(\"\\nRelatório de contas:\")\n",
        "for i in range(3):\n",
        "  print(\" id: \", vetor[i].numero, \" cliente: \", vetor[i].titular, \" saldo: \", vetor[i].saldo)\n",
        "\n",
        "#exibindo uma conta específica\n",
        "print(\"\\nConta armazenada no índice 1:\")\n",
        "print(f'O cliente {vetor[1].titular} possui saldo de R$ {vetor[1].saldo}')"
      ],
      "execution_count": null,
      "outputs": [
        {
          "output_type": "stream",
          "name": "stdout",
          "text": [
            "\n",
            "Número: 4678\n",
            "Titular: tutyuyi\n",
            "Saldo: 6658\n",
            "\n",
            "Número: 455768\n",
            "Titular: yryruyi\n",
            "Saldo: 5687\n",
            "\n",
            "Número: 646768\n",
            "Titular: ruyritu\n",
            "Saldo: 76980\n",
            "\n",
            "Relatório de contas:\n",
            " id:  4678  cliente:  tutyuyi  saldo:  6658\n",
            " id:  455768  cliente:  yryruyi  saldo:  5687\n",
            " id:  646768  cliente:  ruyritu  saldo:  76980\n",
            "\n",
            "Conta armazenada no índice 1:\n",
            "O cliente yryruyi possui saldo de R$ 5687\n"
          ]
        }
      ]
    },
    {
      "cell_type": "markdown",
      "metadata": {
        "id": "DcN6VTJZ6Ie3"
      },
      "source": [
        "##Atividades\n",
        "**4** - Crie um **vetor** com 3 carros (classe **Carro**), faça a leitura dos dados e, ao final, imprima os dados dos 3 carros."
      ]
    },
    {
      "cell_type": "code",
      "metadata": {
        "id": "zYAVX0Dy-PVs",
        "colab": {
          "base_uri": "https://localhost:8080/"
        },
        "outputId": "4e7e8dd9-912f-4339-8ad3-4ededcba0b3b"
      },
      "source": [
        "vetor = []\n",
        "class carros :\n",
        "  modelo = None\n",
        "  titular = None\n",
        "  ano = 0\n",
        "\n",
        "for i in range (3) :\n",
        "    c = carros ()\n",
        "    c.modelo = input(\"\\ndigite o modelo do carro: \")\n",
        "    c.titular = input (\"digite o titular: \")\n",
        "    c.ano = int(input(\"digite o ano: \"))\n",
        "    vetor.append(c)\n",
        "\n",
        "for i in range (len(vetor)):\n",
        "    print (vetor[i].modelo)\n",
        "    print (vetor[i].titular)\n",
        "    print (vetor[i].ano)\n"
      ],
      "execution_count": null,
      "outputs": [
        {
          "name": "stdout",
          "output_type": "stream",
          "text": [
            "\n",
            "digite o modelo do carro: fguudhguid\n",
            "digite o titular: ddjiojigd\n",
            "digite o ano: 9879595\n",
            "\n",
            "digite o modelo do carro: ghughfg\n"
          ]
        }
      ]
    },
    {
      "cell_type": "markdown",
      "source": [
        "**5** - Implemente uma função chamada **adicionaConta** capaz de adicionar um novo cliente (carregado com dados fornecidos pelo usuário) ao vetor."
      ],
      "metadata": {
        "id": "wpghA3b805Oh"
      }
    },
    {
      "cell_type": "code",
      "metadata": {
        "id": "ft539ZgB-PGK"
      },
      "source": [],
      "execution_count": null,
      "outputs": []
    },
    {
      "cell_type": "markdown",
      "source": [
        "**6** - Implemente uma função chamada **exibeContas** capaz de imprimir todos os clientes com saldo maior ou igual a que N reais. O valor de N deve ser passado por parâmetro para a função.\n"
      ],
      "metadata": {
        "id": "Sdy2AjVl1DHi"
      }
    },
    {
      "cell_type": "code",
      "metadata": {
        "id": "GCCu1oFDlrtF"
      },
      "source": [],
      "execution_count": null,
      "outputs": []
    },
    {
      "cell_type": "markdown",
      "metadata": {
        "id": "iy1SHJ5126C9"
      },
      "source": [
        "#Extra: Inicializando valores na classe\n",
        "\n",
        "É possível inicializar os valores das variáveis da classe no momento da instanciação. Para isso, definimos dentro da classe uma função com nome padrão de `__init__`. Esta função é um construtor: recebe os valores a serem usados na inicialização e atribui cada um à respectiva variável da classe.\n",
        "\n",
        "A palavra reservada `self` é  usada para mostrar quais variáveis pertencem à classe."
      ]
    },
    {
      "cell_type": "code",
      "metadata": {
        "id": "ERmWZx_B25ux"
      },
      "source": [
        "class Carro:\n",
        "  marca = None\n",
        "  modelo = None\n",
        "  ano = None\n",
        "\n",
        "  def __init__(self, brand, model, year):\n",
        "    self.marca = brand\n",
        "    self.modelo = model\n",
        "    self.ano = year"
      ],
      "execution_count": null,
      "outputs": []
    },
    {
      "cell_type": "code",
      "metadata": {
        "id": "f6W3pS1i2jq_"
      },
      "source": [
        "audi = Carro(\"Audi\", \"A3\", 2023)\n",
        "print(audi.modelo)"
      ],
      "execution_count": null,
      "outputs": []
    },
    {
      "cell_type": "code",
      "source": [
        "# com dados via input\n",
        "umCarro = Carro(input(\"Marca: \"), input(\"Modelo: \"), input(\"Ano: \"))\n",
        "print(umCarro.modelo)"
      ],
      "metadata": {
        "id": "LBW-OKbnUGFU"
      },
      "execution_count": null,
      "outputs": []
    }
  ]
}