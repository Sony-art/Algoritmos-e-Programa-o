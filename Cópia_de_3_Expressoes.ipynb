{
  "nbformat": 4,
  "nbformat_minor": 0,
  "metadata": {
    "colab": {
      "provenance": [],
      "include_colab_link": true
    },
    "kernelspec": {
      "name": "python3",
      "display_name": "Python 3"
    }
  },
  "cells": [
    {
      "cell_type": "markdown",
      "metadata": {
        "id": "view-in-github",
        "colab_type": "text"
      },
      "source": [
        "<a href=\"https://colab.research.google.com/github/Sony-art/Algoritmos-e-Programacao/blob/master/C%C3%B3pia_de_3_Expressoes.ipynb\" target=\"_parent\"><img src=\"https://colab.research.google.com/assets/colab-badge.svg\" alt=\"Open In Colab\"/></a>"
      ]
    },
    {
      "cell_type": "markdown",
      "metadata": {
        "id": "AMBd5AOkihMa"
      },
      "source": [
        "# Expressões\n",
        "\n",
        "---\n",
        "\n"
      ]
    },
    {
      "cell_type": "markdown",
      "metadata": {
        "id": "q9cwtpPci0e2"
      },
      "source": [
        "Já vimos como realizar a entrada de dados através do comando **input**, bem como a saída por meio do **print**.\n",
        "\n",
        "Agora, veremos como realizar o processamentos dos dados, isto é, realizar operações sobre os dados obtidos, visando produzir saídas que atendam à finalidade do nosso programa (isto é, o enunciado do problema).\n",
        "\n",
        "Muitas destas operações sobre os dados envolverão algum tipo de cálculo ou comparação utilizando diferentes operadores aritméticos, relacionais e/ou lógicos, os quais veremos a seguir."
      ]
    },
    {
      "cell_type": "markdown",
      "metadata": {
        "id": "KRibM2AsGRgO"
      },
      "source": [
        "# Expressões Aritméticas\n"
      ]
    },
    {
      "cell_type": "markdown",
      "metadata": {
        "id": "vIFLWirCLJcl"
      },
      "source": [
        "As expressões aritméticas são aquelas que utilizam os operadores abaixo.\n",
        "Como alguns símbolos usados na matemática não estão disponíveis no teclado, são utilizadas algumas simplificações:\n",
        "\n",
        "\n",
        "![](https://drive.google.com/uc?export=view&id=1y2a3kg8RSc8R41pu8WK1lEI0Oc9hkkOs)\n",
        "\n",
        "As operações de soma, subtração e multiplicação são bem conhecidas. Veremos exemplos envolvendo as demais:"
      ]
    },
    {
      "cell_type": "code",
      "metadata": {
        "id": "T0c8kGQ2HADi",
        "outputId": "ea3c7933-b57f-4628-b8fe-bf572d2d919a",
        "colab": {
          "base_uri": "https://localhost:8080/"
        }
      },
      "source": [
        "# divisão real\n",
        "valor = 5/3\n",
        "print(valor)"
      ],
      "execution_count": null,
      "outputs": [
        {
          "output_type": "stream",
          "name": "stdout",
          "text": [
            "1.6666666666666667\n"
          ]
        }
      ]
    },
    {
      "cell_type": "code",
      "metadata": {
        "id": "8x06ldGSHCyz",
        "outputId": "8adb037d-b74d-47c5-a37d-a2193bcedb5f",
        "colab": {
          "base_uri": "https://localhost:8080/"
        }
      },
      "source": [
        "# divisão inteira\n",
        "valor = 5//3\n",
        "print(valor)"
      ],
      "execution_count": null,
      "outputs": [
        {
          "output_type": "stream",
          "name": "stdout",
          "text": [
            "1\n"
          ]
        }
      ]
    },
    {
      "cell_type": "code",
      "metadata": {
        "id": "6ziBzJ9fG4c1"
      },
      "source": [
        "# módulo (ou resto da divisão)\n",
        "valorDiv = 5 // 3\n",
        "restoDiv = 5 % 3\n",
        "print(valorDiv)\n",
        "print(restoDiv)"
      ],
      "execution_count": null,
      "outputs": []
    },
    {
      "cell_type": "code",
      "metadata": {
        "id": "zVxnaw29FIyB"
      },
      "source": [
        "# exponenciação\n",
        "valor = 5**2\n",
        "print(valor)"
      ],
      "execution_count": null,
      "outputs": []
    },
    {
      "cell_type": "markdown",
      "metadata": {
        "id": "GJL5hQM2iht0"
      },
      "source": [
        "Importante destacar que a divisão real entre dois números inteiros é sempre um float."
      ]
    },
    {
      "cell_type": "code",
      "metadata": {
        "id": "awr3RMq9IcvG"
      },
      "source": [
        "valor = 8/2\n",
        "print(valor)\n",
        "type(valor)"
      ],
      "execution_count": null,
      "outputs": []
    },
    {
      "cell_type": "markdown",
      "metadata": {
        "id": "e2MhTzagmvuZ"
      },
      "source": [
        "# Precedência de operadores aritméticos"
      ]
    },
    {
      "cell_type": "markdown",
      "metadata": {
        "id": "46eZWh7SfQ_t"
      },
      "source": [
        "Quando temos mais de um operador na mesma expressão, qual a ordem de execução?\n",
        "\n",
        "No exemplo abaixo, será executada primeiro a soma ou a multiplicação?"
      ]
    },
    {
      "cell_type": "code",
      "metadata": {
        "id": "dcKI8XoMfuOF",
        "outputId": "0da4a9d5-02f3-4e92-d71a-ae1d5ffb125b",
        "colab": {
          "base_uri": "https://localhost:8080/"
        }
      },
      "source": [
        "resultado = 10 + (5 * 2) / 5\n",
        "print(resultado)"
      ],
      "execution_count": null,
      "outputs": [
        {
          "output_type": "stream",
          "name": "stdout",
          "text": [
            "12.0\n"
          ]
        }
      ]
    },
    {
      "cell_type": "markdown",
      "metadata": {
        "id": "Bu74SJhnnM7t"
      },
      "source": [
        "E no exemplo abaixo, em que ordem as operações são executadas?"
      ]
    },
    {
      "cell_type": "code",
      "metadata": {
        "id": "ZbNhQTmllOuB",
        "outputId": "4235d181-baa1-48fa-9a4d-cc75be4cb6fd",
        "colab": {
          "base_uri": "https://localhost:8080/"
        }
      },
      "source": [
        "x = 1 + 2 * 3 - 4 / 5 ** 2 ** 0\n",
        "print(x)"
      ],
      "execution_count": null,
      "outputs": [
        {
          "output_type": "stream",
          "name": "stdout",
          "text": [
            "6.2\n"
          ]
        }
      ]
    },
    {
      "cell_type": "markdown",
      "metadata": {
        "id": "qBzkMd6jliVi"
      },
      "source": [
        "Existe uma ordem de precedência, ou seja, regras que definem em que ordem as operações são executadas:\n",
        "\n",
        "\n",
        "1.   Parênteses\n",
        "2.   Exponenciação (da direita para a esquerda)\n",
        "\n",
        "1.   Multiplicação, divisão real, divisão inteira e módulo (da esquerda para a direita)\n",
        "2.   Adição e subtração (da esquerda para a direita)\n",
        "\n",
        "No exemplo logo acima, a ordem seria:\n",
        "```\n",
        "2 ** 0   # exponenciação mais à direita\n",
        "5 ** 1   # próxima exponenciação mais à direita\n",
        "2 * 3    # multiplicação (vem antes da divisão pois está mais à esquerda)\n",
        "4 / 5    # divisão\n",
        "1 + 6    # soma (vem antes da subtração pois está mais à esquerda)\n",
        "7 - 0.8  # subtração\n",
        "```\n",
        "\n",
        "\n"
      ]
    },
    {
      "cell_type": "markdown",
      "metadata": {
        "id": "N003CCeP8o4c"
      },
      "source": [
        "O uso de parênteses altera a ordem de precedência:"
      ]
    },
    {
      "cell_type": "code",
      "metadata": {
        "id": "Msa4j4ONBE0Q",
        "outputId": "b6f323cd-5ef3-4022-8a25-8b0800dfecbd",
        "colab": {
          "base_uri": "https://localhost:8080/"
        }
      },
      "source": [
        "#media de 3 números\n",
        "media = (1 + 2 + 3 )/ 3\n",
        "print(media)"
      ],
      "execution_count": null,
      "outputs": [
        {
          "output_type": "stream",
          "name": "stdout",
          "text": [
            "2.0\n"
          ]
        }
      ]
    },
    {
      "cell_type": "markdown",
      "metadata": {
        "id": "CSZzTfCde4H2"
      },
      "source": [
        "Nas linguagens de programação **não se usa colchetes e chaves** como na matemática; por outro lado, podemos usar quantos níveis de parênteses forem necessários.\n"
      ]
    },
    {
      "cell_type": "code",
      "metadata": {
        "id": "NlD-Y4gJNUkW",
        "outputId": "24aa2d07-d92f-4faf-8292-da9b6420bc9d",
        "colab": {
          "base_uri": "https://localhost:8080/"
        }
      },
      "source": [
        "resultado = (4 + (10 - 6 * (8 + (5 // 2))))\n",
        "print(resultado)"
      ],
      "execution_count": null,
      "outputs": [
        {
          "output_type": "stream",
          "name": "stdout",
          "text": [
            "-46\n"
          ]
        }
      ]
    },
    {
      "cell_type": "markdown",
      "metadata": {
        "id": "L898uGN9kq28"
      },
      "source": [
        "# Exercícios de fixação"
      ]
    },
    {
      "cell_type": "markdown",
      "metadata": {
        "id": "1yuKNIrxk04V"
      },
      "source": [
        "AT1 - Leia dois números, divida o primeiro pelo segundo e mostre os seguintes resultados, conforme formato abaixo:\n",
        "\n",
        "Dividendo:               \n",
        "Divisor:                 \n",
        "Quociente:              \n",
        "Resto:\n",
        "\n"
      ]
    },
    {
      "cell_type": "markdown",
      "source": [],
      "metadata": {
        "id": "f-ocPreBl56R"
      }
    },
    {
      "cell_type": "code",
      "metadata": {
        "id": "AGxNEnnf3e6s"
      },
      "source": [
        "num1=float(input(\"digite um numero \"))\n",
        "num2=float(input(\"digite um outro \"))\n",
        "print(\"dividendo:%0.f\" %num1)\n",
        "print(\"divisor :%0.f\" %num2)\n",
        "q=num1//num2\n",
        "print(\"quociente:%0.f\" %q)\n",
        "r=num1%num2\n",
        "print (\"divisor:%0.f\" %r)"
      ],
      "execution_count": null,
      "outputs": []
    },
    {
      "cell_type": "markdown",
      "metadata": {
        "id": "3Glv9BaH3fOi"
      },
      "source": [
        "AT2 - Escreva um algoritmo para ler uma temperatura em graus Fahrenheit, calcular e escrever o valor correspondente em graus Celsius."
      ]
    },
    {
      "cell_type": "code",
      "metadata": {
        "id": "4LdBneJg3hC6"
      },
      "source": [],
      "execution_count": null,
      "outputs": []
    },
    {
      "cell_type": "markdown",
      "metadata": {
        "id": "qWgM4DO4JIta"
      },
      "source": [
        "AT3 - Leia um número e, utilizando o que aprendemos até o momento, extraia sua raiz quadrada."
      ]
    },
    {
      "cell_type": "code",
      "metadata": {
        "id": "PiTJuUMvj4jT"
      },
      "source": [],
      "execution_count": null,
      "outputs": []
    },
    {
      "cell_type": "markdown",
      "metadata": {
        "id": "dCEZpdW6KH5Y"
      },
      "source": [
        "# Atribuições ampliadas\n",
        "\n"
      ]
    },
    {
      "cell_type": "markdown",
      "metadata": {
        "id": "yegMWVcGKhCt"
      },
      "source": [
        "Na programação, são muito comuns atribuições do tipo:\n",
        "\n",
        "```num = num + 1```\n",
        "\n",
        "ou\n",
        "\n",
        "``` resultado = resultado + valor```\n",
        "\n",
        "Em ambos os casos, a variável está sendo atualizada com um novo valor, sendo que este último é calculado com base no valor atual da variável. No primeiro exemplo, a variável `num` comporta-se como um **contador** e está sendo incrementada em uma unidade; já no segundo exemplo, dizemos que `resultado` é um **acumulador** (pois está acumulando seu valor anterior com um novo valor). Usaremos bastante estes recursos quando trabalharmos mais adiante com repetições.\n",
        "\n",
        "Lembre-se que, em uma atribuição, primeiramente é executada a expressão à direita do sinal `=` e, em seguida, o resultado da expressão é atribuído à variável à esquerda do sinal `=`.\n",
        "\n",
        "Assim, a instrução\n",
        "\n",
        "```num = num + 1```\n",
        "\n",
        "pode ser lida como \"obtenha o valor atual de `num`, some 1 unidade e guarde o resultado em `num`, sobrescrevendo o valor atual\"."
      ]
    },
    {
      "cell_type": "code",
      "metadata": {
        "id": "bVQJ5hP3uCaM"
      },
      "source": [
        "num = 3\n",
        "valor = 1\n",
        "num = num + valor\n",
        "print(num)"
      ],
      "execution_count": null,
      "outputs": []
    },
    {
      "cell_type": "markdown",
      "metadata": {
        "id": "15lOFvZZukR8"
      },
      "source": [
        "Para facilitar a utilização destas atribuições que tomam como base o valor atual da variável, o Python possui uma sintaxe simplificada. O exemplo acima poderia ser escrito simplesmente como:\n",
        "\n",
        "```num += 1```\n",
        "\n",
        "Veja outros exemplo abaixo. Adicione comandos de saída para checar os valores das variáveis após as operações."
      ]
    },
    {
      "cell_type": "code",
      "metadata": {
        "id": "Y0pKs69lKh_b"
      },
      "source": [
        "b = c = d = e = f = g = h = 5 # aqui todas as variáveis iniciam com o valor 5\n",
        "b += 1     # mesmo que: b = b + 1\n",
        "c -= b     # mesmo que: c = c - b\n",
        "d *= 2     # mesmo que: d = d \u0003* 2\n",
        "e /= 3     # mesmo que: e = e /3\n",
        "f **= 0.5  # mesmo que: f = f **\u0003\u0003 0.5\n",
        "g %= h     # mesmo que: g = g % h"
      ],
      "execution_count": null,
      "outputs": []
    },
    {
      "cell_type": "markdown",
      "metadata": {
        "id": "uNI7S9JciodO"
      },
      "source": [
        "# Expressões Relacionais"
      ]
    },
    {
      "cell_type": "markdown",
      "metadata": {
        "id": "jk0oF0Tbdqad"
      },
      "source": [
        "Já sabemos que valores constantes (números e strings), variáveis e as operações aritméticas vistas acima são expressões.\n",
        "\n",
        "As **expressões relacionais** são aquelas que comparam duas expressões entre si, produzindo como resultado um dos valores:\n",
        "\n",
        "\n",
        "*   **True**, quando o resultado da comparação é verdadeiro\n",
        "*   **False**, quando o resultado da comparação é falso\n",
        "\n",
        "Os operadores relacionais podem ser vistos abaixo:\n",
        "\n",
        "![](https://drive.google.com/uc?export=view&id=1zgkq7GVvyIWAQ_wAqk41Q9p92KW6QQb8)\n",
        "\n"
      ]
    },
    {
      "cell_type": "markdown",
      "metadata": {
        "id": "aaz9ohWjduSI"
      },
      "source": [
        "`expressão1 == expressão2 `\n",
        "\n",
        "retorna True quando os valores das duas expressões são iguais"
      ]
    },
    {
      "cell_type": "code",
      "metadata": {
        "id": "qh2WCpkeGarM"
      },
      "source": [
        "var = (5 == 6)\n",
        "print(var3)\n",
        "var = (5 == 5)\n",
        "print(var)"
      ],
      "execution_count": null,
      "outputs": []
    },
    {
      "cell_type": "markdown",
      "metadata": {
        "id": "_8ZJigxWejSe"
      },
      "source": [
        "`expressão1 != expressão2`\n",
        "\n",
        "retorna True quando os valores das duas expressões são diferentes\n",
        "\n"
      ]
    },
    {
      "cell_type": "code",
      "metadata": {
        "id": "_LnX_9jCew_e"
      },
      "source": [
        "var = (5 != 6)\n",
        "print(var)\n",
        "var = (5 != 5)\n",
        "print(var)"
      ],
      "execution_count": null,
      "outputs": []
    },
    {
      "cell_type": "markdown",
      "metadata": {
        "id": "QD7Tg0z3e3_d"
      },
      "source": [
        "`expressão1 > expressão2`\n",
        "\n",
        "retorna True quando o valor da primeira expressão é maior do que o valor da segunda\n"
      ]
    },
    {
      "cell_type": "code",
      "metadata": {
        "id": "L6QDmNOwfINd"
      },
      "source": [
        "var = (10 > 8)\n",
        "print(var)\n",
        "var = (8 > 10)\n",
        "print(var)\n",
        "var = (10 > 10)\n",
        "print(var)"
      ],
      "execution_count": null,
      "outputs": []
    },
    {
      "cell_type": "markdown",
      "metadata": {
        "id": "4hHNTQ0ffiB5"
      },
      "source": [
        "`expressão1 >= expressão2`\n",
        "\n",
        "retorna True quando o valor da primeira expressão é maior ou igual ao valor da segunda"
      ]
    },
    {
      "cell_type": "code",
      "metadata": {
        "id": "w2mYsy52fxmd"
      },
      "source": [
        "var = (10 >= 8)\n",
        "print(var)\n",
        "var = (8 >= 10)\n",
        "print(var)\n",
        "var = (10 >= 10)\n",
        "print(var)"
      ],
      "execution_count": null,
      "outputs": []
    },
    {
      "cell_type": "markdown",
      "metadata": {
        "id": "R7rWTpLvfmht"
      },
      "source": [
        "`expressão1 < expressão2`\n",
        "\n",
        "retorna True quando o valor da primeira expressão é menor do que o valor da segunda"
      ]
    },
    {
      "cell_type": "code",
      "metadata": {
        "id": "phEV0J0Jf1Sv"
      },
      "source": [
        "var = (0 < 1)\n",
        "print(var)\n",
        "var = (1 < 0)\n",
        "print(var)\n",
        "var = (1 < 1)\n",
        "print(var)"
      ],
      "execution_count": null,
      "outputs": []
    },
    {
      "cell_type": "markdown",
      "metadata": {
        "id": "5zEj00d4fo2Q"
      },
      "source": [
        "`expressão1 <= expressão2`\n",
        "\n",
        "retorna True quando o valor da primeira expressão é menor ou igual ao valor da segunda"
      ]
    },
    {
      "cell_type": "code",
      "metadata": {
        "id": "cguTWy2wf_7t"
      },
      "source": [
        "var = (0 <= 1)\n",
        "print(var)\n",
        "var = (1 <= 0)\n",
        "print(var)\n",
        "var = (1 <= 1)\n",
        "print(var)"
      ],
      "execution_count": null,
      "outputs": []
    },
    {
      "cell_type": "markdown",
      "metadata": {
        "id": "Wedq91j9yfot"
      },
      "source": [
        "Em termos de precedência, quando temos operadores aritméticos e operadores relacionais na mesma expressão, os aritméticos executam antes. A expressão abaixo retornará um valor lógico, pois está comparando o resultado de duas expressões aritméticas:"
      ]
    },
    {
      "cell_type": "code",
      "metadata": {
        "id": "rQsV4JrqgZt9"
      },
      "source": [
        "print(3*4/2 != 2*3)  # 6 != 6"
      ],
      "execution_count": null,
      "outputs": []
    },
    {
      "cell_type": "markdown",
      "metadata": {
        "id": "ttZIh-wbgij-"
      },
      "source": [
        "# Expressões Lógicas\n"
      ]
    },
    {
      "cell_type": "markdown",
      "metadata": {
        "id": "pWx7BC5Mgtuk"
      },
      "source": [
        "São expressões que operam sobre valores e/ou expresssões que retornam valores lógicos (True/False), produzindo um novo valor lógico.\n",
        "\n",
        "Os operadores lógicos são E, OU e NÃO. Em Python, os representamos da seguinte forma:\n",
        "\n",
        "![](https://drive.google.com/uc?export=view&id=1vPy9aK1LReQz-Vbdzei8yo7K3Jdi_fVN)"
      ]
    },
    {
      "cell_type": "markdown",
      "metadata": {
        "id": "mCbLuA2t0E6T"
      },
      "source": [
        "`expressão1 and expressão2`\n",
        "\n",
        "retorna True somente se ambas as expressões são verdeiras. Se uma ou ambas forem falsas, retorna False"
      ]
    },
    {
      "cell_type": "code",
      "metadata": {
        "id": "TWSFNgVugtCF"
      },
      "source": [
        "x = 5\n",
        "y = 10\n",
        "z = -1\n",
        "print(x < y and x > z)    # True and True, igual a True\n",
        "print(x > y and x > z)    # False and True, igual a False\n",
        "print(x < y and y == z)   # True and False, igual a False\n",
        "print(x == y and y == z)  # False and False, igual a False"
      ],
      "execution_count": null,
      "outputs": []
    },
    {
      "cell_type": "markdown",
      "metadata": {
        "id": "3lXe3bER0rfu"
      },
      "source": [
        "`expressão1 or expressão2`\n",
        "\n",
        "retorna True se pelo menos uma das expressões é verdadeiras. Somente retorna False se ambas forem falsas."
      ]
    },
    {
      "cell_type": "code",
      "metadata": {
        "id": "2cOYp58Y1U_s"
      },
      "source": [
        "x = 5\n",
        "y = 10\n",
        "z = -1\n",
        "print(x < y or x > z)    # True or True, igual a True\n",
        "print(x > y or x > z)    # False or True, igual a True\n",
        "print(x < y or y == z)   # True or False, igual a True\n",
        "print(x == y or y == z)  # False or False, igual a False"
      ],
      "execution_count": null,
      "outputs": []
    },
    {
      "cell_type": "markdown",
      "metadata": {
        "id": "5gdScWIp1cDS"
      },
      "source": [
        "`not expressão`\n",
        "\n",
        "inverte o valor lógico da expressão à direita do not"
      ]
    },
    {
      "cell_type": "code",
      "metadata": {
        "id": "tJGzeYi91mvS"
      },
      "source": [
        "x = 5\n",
        "y = 10\n",
        "z = -1\n",
        "print(x < y)       # True\n",
        "print(not x < y)   # not True\n",
        "print(x == y)      # False\n",
        "print(not x == y)  # not False\n"
      ],
      "execution_count": null,
      "outputs": []
    },
    {
      "cell_type": "markdown",
      "metadata": {
        "id": "uZbbqWB2qlmP"
      },
      "source": [
        "Vejamos mais alguns exemplos:"
      ]
    },
    {
      "cell_type": "code",
      "metadata": {
        "id": "XvOwh92xnEKE"
      },
      "source": [
        "media = float(input(\"Informe sua média final: \"))\n",
        "frequencia = float(input(\"Informe seu percentual frequência: \"))\n",
        "aprovado = media >=6.0 and frequencia >= 75\n",
        "print(\"Sua aprovação é: \",aprovado)"
      ],
      "execution_count": null,
      "outputs": []
    },
    {
      "cell_type": "code",
      "metadata": {
        "id": "1PjSVpKgnp0i"
      },
      "source": [
        "idade = int(input(\"Qual sua idade? \"))\n",
        "dispensado = idade < 18 or idade >= 70\n",
        "print(\"Sua dispensa de votar é: \", dispensado)"
      ],
      "execution_count": null,
      "outputs": []
    },
    {
      "cell_type": "code",
      "metadata": {
        "id": "JEozJi4Oo2rR"
      },
      "source": [
        "contribuinte = int(input(\"Você é contribuinte? (1 para sim e 0 para não): \"))\n",
        "isento = not contribuinte   # 0 é reconhecido como False; qq outro valor é reconhecido como True\n",
        "print(\"Isento: \", isento)"
      ],
      "execution_count": null,
      "outputs": []
    },
    {
      "cell_type": "markdown",
      "metadata": {
        "id": "_hZqr1lx9VHe"
      },
      "source": [
        "Algumas linguagens apresentam ainda o operador xor (ou exclusivo), que retorna False quando ambas as expressões são True. Podemos simulá-lo em python com a expressão:\n",
        "\n",
        "```(a and not b) or (not a and b)```"
      ]
    },
    {
      "cell_type": "code",
      "metadata": {
        "id": "XkyeSD2Dzmb1"
      },
      "source": [
        "a = True\n",
        "b = True\n",
        "print((a and not b) or (not a and b))"
      ],
      "execution_count": null,
      "outputs": []
    },
    {
      "cell_type": "markdown",
      "metadata": {
        "id": "VPAhmu-tAjh3"
      },
      "source": [
        "# Precedência entre operadores lógicos"
      ]
    },
    {
      "cell_type": "markdown",
      "metadata": {
        "id": "-ImpI6xYAsUC"
      },
      "source": [
        "1.   not\n",
        "2.   and\n",
        "1.   or\n",
        "\n",
        "\n",
        "\n"
      ]
    },
    {
      "cell_type": "code",
      "metadata": {
        "id": "ZEIXQB6CA2HG"
      },
      "source": [
        "a = True\n",
        "b = True\n",
        "c = False\n",
        "print(a or not b and c)  # not b, depois and, depois or\n",
        "# True or not True and False\n",
        "# True or False and False\n",
        "# True or False\n",
        "# True"
      ],
      "execution_count": null,
      "outputs": []
    },
    {
      "cell_type": "markdown",
      "metadata": {
        "id": "IZh-oTCBA3Eq"
      },
      "source": [
        "# Precedência entre todos os operadores\n",
        "\n",
        "\n",
        "\n",
        "1.   Parênteses mais internos\n",
        "2.   Operadores aritméticos\n",
        "1.   Operadores relacionais\n",
        "2.   Operadores lógicos\n",
        "\n",
        "\n",
        "\n"
      ]
    },
    {
      "cell_type": "code",
      "metadata": {
        "id": "OUcd-cLrBK7P"
      },
      "source": [
        "x = 1\n",
        "y = 2\n",
        "print(x > 0 or not x == y and x + y == 5)"
      ],
      "execution_count": null,
      "outputs": []
    },
    {
      "cell_type": "code",
      "metadata": {
        "id": "m9CZ6KRtFa_J"
      },
      "source": [
        "aux = 10\n",
        "k = 3\n",
        "resp = False\n",
        "apelido = \"Flor\"\n",
        "print(aux <= aux / k + k and (not resp or apelido == \"Flor\"))"
      ],
      "execution_count": null,
      "outputs": []
    },
    {
      "cell_type": "markdown",
      "metadata": {
        "id": "tWCDDS0ArNEm"
      },
      "source": [
        "# Exercício de fixação"
      ]
    },
    {
      "cell_type": "markdown",
      "metadata": {
        "id": "sz7rMa3FrxzY"
      },
      "source": [
        "AT5 - Faça um programa que leia um número inteiro e exiba True se este número é múltiplo de 4 e de 3 simultaneamente, ou False caso contrário."
      ]
    },
    {
      "cell_type": "code",
      "metadata": {
        "id": "78FTdLTfrvyx"
      },
      "source": [
        "a=int(input())\n",
        "print (a==4 and a==3 )"
      ],
      "execution_count": null,
      "outputs": []
    }
  ]
}