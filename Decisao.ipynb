{
  "nbformat": 4,
  "nbformat_minor": 0,
  "metadata": {
    "celltoolbar": "Slideshow",
    "kernelspec": {
      "display_name": "Python 3",
      "language": "python",
      "name": "python3"
    },
    "language_info": {
      "codemirror_mode": {
        "name": "ipython",
        "version": 3
      },
      "file_extension": ".py",
      "mimetype": "text/x-python",
      "name": "python",
      "nbconvert_exporter": "python",
      "pygments_lexer": "ipython3",
      "version": "3.7.4"
    },
    "colab": {
      "provenance": [],
      "include_colab_link": true
    }
  },
  "cells": [
    {
      "cell_type": "markdown",
      "metadata": {
        "id": "view-in-github",
        "colab_type": "text"
      },
      "source": [
        "<a href=\"https://colab.research.google.com/github/Sony-art/Algoritmos-e-Programacao/blob/master/Decisao.ipynb\" target=\"_parent\"><img src=\"https://colab.research.google.com/assets/colab-badge.svg\" alt=\"Open In Colab\"/></a>"
      ]
    },
    {
      "cell_type": "markdown",
      "metadata": {
        "id": "jTBZ5hxpCuM3"
      },
      "source": [
        "# Comandos condicionais ou de decisão\n",
        "\n",
        "Estruturas de decisão permitem dizer ao computador para executar ações alternativas, baseado em certas condições.\n",
        "\n",
        "Por exemplo: \"Se o cliente comprou no mínimo R\\$ 100,00, aplique frete grátis. Senão, cobre R\\$ 10,00 de frete. \"\n",
        "\n",
        "Dessa forma, de acordo com os dados de entrada, teremos um processamento específico.\n"
      ]
    },
    {
      "cell_type": "markdown",
      "metadata": {
        "id": "Hvj5tVqk2Fys"
      },
      "source": [
        "##IF\n",
        "\n",
        "Utilizamos o comando `if` quando precisamos testar uma condição antes de executar comando (ou bloco de comandos).\n",
        "\n",
        "Exemplo:"
      ]
    },
    {
      "cell_type": "code",
      "metadata": {
        "id": "c95ktGzsEOTZ"
      },
      "source": [
        "pais = input(\"De onde vc é? \")\n",
        "\n",
        "if pais == \"CANADA\":\n",
        "  print(\"Hello\")\n",
        "if pais == \"BRASIL\":\n",
        "  print(\"Olá\")\n",
        "if pais == \"FRANCE\":\n",
        "  print(\"Bonjour\")"
      ],
      "execution_count": null,
      "outputs": []
    },
    {
      "cell_type": "markdown",
      "metadata": {
        "id": "mPoDh9SZCuM5"
      },
      "source": [
        "### Cuidado com a indentação!!!\n",
        "\n",
        "Os comandos no interior de uma estrutura de decisão, repetição ou função formam o que chamamos de **bloco de comandos**.\n",
        "\n",
        "Em Python, usamos espaços ou tabs para delimitar um bloco de comandos. Estes recuos são conhecidos também como indentação. Mesmo em linguagens onde a indentação não é exigida, ainda assim esta é considerada uma boa prática, pois ajuda a ressaltar a estrutura do programa, aumentando assim a legibilidade do código.\n",
        "\n",
        "Não há um número exato de espaços a serem utilizados, mas é essencial que seja estabelecido um padrão dentro do programa, caso contrário, teremos um erro.\n"
      ]
    },
    {
      "cell_type": "code",
      "metadata": {
        "id": "-9_R1Vd3zxFv",
        "colab": {
          "base_uri": "https://localhost:8080/"
        },
        "outputId": "8fbbe6de-bee2-44a5-c5a8-3a04ab28063b"
      },
      "source": [
        "x = -10\n",
        "if x > 0:\n",
        "  print(\"X é positivo\")\n",
        "  print(\"Esta mensagem está dentro do if\")\n",
        "print(\"Esta mensagem está fora do if\")"
      ],
      "execution_count": null,
      "outputs": [
        {
          "output_type": "stream",
          "name": "stdout",
          "text": [
            "Esta mensagem está fora do if\n"
          ]
        }
      ]
    },
    {
      "cell_type": "markdown",
      "metadata": {
        "id": "DLYyxzNqBwpe"
      },
      "source": [
        "Exemplo: Ler a idade informada pelo usuário e mostrar uma mensagem caso o mesmo esteja apto a votar."
      ]
    },
    {
      "cell_type": "code",
      "metadata": {
        "id": "myqo1WU5BwGL",
        "colab": {
          "base_uri": "https://localhost:8080/"
        },
        "outputId": "657e2600-7cf5-4372-81fb-fad66bd15d0e"
      },
      "source": [
        "idade = int(input(\"Informe sua idade: \"))\n",
        "if idade >= 16:\n",
        "  print(\"Você pode votar\")"
      ],
      "execution_count": null,
      "outputs": [
        {
          "output_type": "stream",
          "name": "stdout",
          "text": [
            "Informe sua idade: 22\n",
            "Você pode votar\n"
          ]
        }
      ]
    },
    {
      "cell_type": "markdown",
      "metadata": {
        "id": "x-yRBnH3I3Kd"
      },
      "source": [
        "##IF / ELSE (se / senão)"
      ]
    },
    {
      "cell_type": "markdown",
      "metadata": {
        "id": "S9qRfLWZzwHf"
      },
      "source": [
        "\n",
        "Utilizamos o `if` acompanhado do comando `else` quando precisamos testar uma condição para decidir entre dois comandos (ou blocos de comandos) diferentes.\n",
        "\n",
        "\n",
        "- `if <condição>`: as linhas de código do bloco que vem logo abaixo são executadas somente se a condição for verdadeira.\n",
        "- `else`: as linhas de código do bloco `else` são executadas somente quando a condição do `if` for falsa.\n"
      ]
    },
    {
      "cell_type": "code",
      "metadata": {
        "id": "5tIIKhmGCuNE"
      },
      "source": [
        "a = 2\n",
        "if a < 0:\n",
        "  print(\"é negativo\")\n",
        "else:\n",
        "  print(\"é não negativo\")"
      ],
      "execution_count": null,
      "outputs": []
    },
    {
      "cell_type": "markdown",
      "metadata": {
        "id": "rpsGl7-qCzef"
      },
      "source": [
        "Exemplo: Ler a idade informada pelo usuário e mostrar uma mensagem informando se o mesmo é ou não apto a votar."
      ]
    },
    {
      "cell_type": "code",
      "metadata": {
        "id": "aoiKcES2C9o3"
      },
      "source": [
        "idade = int(input(\"Informe sua idade: \"))\n",
        "if idade >= 16:\n",
        "  print(\"Você pode votar\")\n",
        "else:\n",
        "  print(\"Você não pode votar\")"
      ],
      "execution_count": null,
      "outputs": []
    },
    {
      "cell_type": "code",
      "metadata": {
        "id": "u0FEKL1v-K1i"
      },
      "source": [
        "idade = int(input(\"Informe sua idade: \"))\n",
        "if idade < 16:\n",
        "  print(\"Você não pode votar\")\n",
        "else:\n",
        "  print(\"Você pode votar\")"
      ],
      "execution_count": null,
      "outputs": []
    },
    {
      "cell_type": "markdown",
      "metadata": {
        "id": "2TA6b-NlCuNb"
      },
      "source": [
        "## Condições e operadores\n",
        "\n",
        "A condição do `if` pode ser um valor ou variável booleana, uma expressão relacional ou uma expressão lógica. Ou seja, pode ser qualquer coisa que possua um dos valores `True`ou `False`.\n",
        "\n",
        "Vamos relembrar os operadores que já conhecemos:\n",
        "\n",
        "\n",
        "Operadores Relacionais\n",
        "\n",
        "---\n",
        "\n",
        "| Operador | Significado |\n",
        "| --- | --- |\n",
        "| Menor | < |\n",
        "| Menor ou igual | <= |\n",
        "| Maior | > |\n",
        "| Maior ou igual | >= |\n",
        "| Igual | == |\n",
        "| Diferente | != |\n"
      ]
    },
    {
      "cell_type": "markdown",
      "metadata": {
        "id": "bM5EQjba2prr"
      },
      "source": [
        "\n",
        "Operador AND\n",
        "\n",
        "---\n",
        "\n",
        "\n",
        "| Condição A | Condição B | Resultado |\n",
        "| --- | --- | --- |\n",
        "| True | True | True |\n",
        "| True | False | False |\n",
        "| False | True | False |\n",
        "| False | False | False |\n",
        "\n"
      ]
    },
    {
      "cell_type": "markdown",
      "metadata": {
        "id": "eFRLbutTyfbw"
      },
      "source": [
        "\n",
        "Operador OR\n",
        "\n",
        "---\n",
        "\n",
        "| Condição A | Condição B | Resultado |\n",
        "| --- | --- | --- |\n",
        "| True | True | True |\n",
        "| True | False | True |\n",
        "| False | True | True |\n",
        "| False | False | False |\n",
        "\n",
        "Operador NOT\n",
        "\n",
        "---\n",
        "\n",
        "| Condição | Resultado |\n",
        "| --- | --- |\n",
        "| True | False |\n",
        "| False | True |"
      ]
    },
    {
      "cell_type": "code",
      "metadata": {
        "id": "2T6N6UwO_tTx"
      },
      "source": [
        "y = 5\n",
        "x = -3\n",
        "if x > 0 and y > 0:\n",
        "  print('x e y são positivos')\n",
        "else:\n",
        "  print(\"Um dos valores não é positivo\")\n",
        "\n",
        "if x > y:\n",
        "  print(\"x é maior que y\")\n",
        "else:\n",
        "  print(\"y é maior que x\")"
      ],
      "execution_count": null,
      "outputs": []
    },
    {
      "cell_type": "markdown",
      "metadata": {
        "id": "ZkotlAEt3jek"
      },
      "source": [
        "#Atividades\n"
      ]
    },
    {
      "cell_type": "markdown",
      "metadata": {
        "id": "sziUnkZT3scp"
      },
      "source": [
        "**1** - Faça um programa que leia 2 números e informe se o primeiro é ou não múltiplo do segundo.\n",
        "\n"
      ]
    },
    {
      "cell_type": "code",
      "metadata": {
        "id": "ts-Wj0Qb3omI",
        "colab": {
          "base_uri": "https://localhost:8080/"
        },
        "outputId": "e74745d3-6387-4f14-883b-96ec443a98ca"
      },
      "source": [
        "n1 = int(input())\n",
        "n2 = int(input())\n",
        "if n1 % n2==0 :\n",
        "  print(f\"o numero {n1} eh multiplo do numero {n2}\")\n",
        "else :\n",
        "  print (f\"o numero {n1} nao eh multiplo de {n2}\")"
      ],
      "execution_count": null,
      "outputs": [
        {
          "output_type": "stream",
          "name": "stdout",
          "text": [
            "3\n",
            "12\n",
            "o numero 3 nao eh multiplo de 12\n"
          ]
        }
      ]
    },
    {
      "cell_type": "markdown",
      "metadata": {
        "id": "PeIc3LQg2NJS"
      },
      "source": [
        "**2** - Escreva um programa\tpara\tler\to\tano\tde fabricação de um veículo\te informar ao usuário se ele é isento ou não do pagamento de IPVA.\n",
        "(considere que, no estado de SC, o veículo se torna isento após 30 anos de sua fabricação)."
      ]
    },
    {
      "cell_type": "code",
      "metadata": {
        "id": "1dEdZ2AZ235t",
        "colab": {
          "base_uri": "https://localhost:8080/"
        },
        "outputId": "928e45b2-2d8c-464b-c87e-bd4f42751a3c"
      },
      "source": [
        "a= int(input(\"informe o ano da faricacao do vehiculo \"))\n",
        "I= 2023-a\n",
        "if I>=30 :\n",
        "  print(f\"o seu vehiculo eh isento, pois ele tem {I} anos de sua fabricacao\")\n",
        "else :\n",
        "  print(\" o seu vehiculo nao eh isento \")\n"
      ],
      "execution_count": null,
      "outputs": [
        {
          "output_type": "stream",
          "name": "stdout",
          "text": [
            "informe o ano da faricacao do vehiculo 1999\n",
            " o seu vehiculo nao eh isento \n"
          ]
        }
      ]
    },
    {
      "cell_type": "markdown",
      "metadata": {
        "id": "II-LWNsl23UK"
      },
      "source": [
        "**3** - Uma fruteira vende maçãs com 2 preços: R\\$ 0,30 cada, para compras de até 12 unidades, e R\\$ 0,25 cada, para compras acima de 12 unidades. Faça um programa que peça a quantidade de maçãs compradas e calcule e apresente o valor a ser pago pelo cliente."
      ]
    },
    {
      "cell_type": "code",
      "metadata": {
        "id": "dVphAtG73SJC",
        "colab": {
          "base_uri": "https://localhost:8080/"
        },
        "outputId": "1fddf5e6-1fd8-40aa-e094-7cf1d1755404"
      },
      "source": [
        "a= float(input(\"informe a quantidade de macas compradas: \"))\n",
        "b = a*0.30\n",
        "c = a*0.25\n",
        "if a<=12 :\n",
        "  print(\"o valor a ser pago eh : %0.1f RS \" %b)\n",
        "else :\n",
        "  print(\"deu: %0.f RS \"  %c)\n"
      ],
      "execution_count": null,
      "outputs": [
        {
          "output_type": "stream",
          "name": "stdout",
          "text": [
            "informe a quantidade de macas compradas: 40\n",
            "deu: 10 RS \n"
          ]
        }
      ]
    },
    {
      "cell_type": "markdown",
      "metadata": {
        "id": "xo8rMpQK64mE"
      },
      "source": [
        "**4** - Uma loja vende produtos à vista e a prazo (pagamento 30 dias após a compra). À vista é concedido um desconto de 5%; a prazo há um acréscimo de 10%. Faça um programa que pergunte o preço do produto e a forma de pagamento: 1 para à vista e 2 para a prazo. Depois, apresente o preço final do produto."
      ]
    },
    {
      "cell_type": "code",
      "metadata": {
        "id": "d_tfbXNZ7GNw",
        "colab": {
          "base_uri": "https://localhost:8080/"
        },
        "outputId": "029ece16-ab88-42d0-8225-54f7e185325c"
      },
      "source": [
        "a= float(input(\"informe o preco do produto: \" ))\n",
        "b= int(input(\"qual eh a forma do pagamento? \\ndigite 1 para a vista e 2 para o prazo \"))\n",
        "preco1= a-((5*a)/100)\n",
        "preco2= a+((10*a)/100)\n",
        "if b==1 :\n",
        "  print(\"o preco final eh de : \",preco1)\n",
        "else :\n",
        "  print(\"o preco final eh de: \", preco2)"
      ],
      "execution_count": null,
      "outputs": [
        {
          "output_type": "stream",
          "name": "stdout",
          "text": [
            "informe o preco do produto: 100\n",
            "qual eh a forma do pagamento? \n",
            "digite 1 para a vista e 2 para o prazo 1\n",
            "o preco final eh de :  95.0\n"
          ]
        }
      ]
    },
    {
      "cell_type": "markdown",
      "metadata": {
        "id": "hVMGWgtO3u-m"
      },
      "source": [
        "**5** - Escreva um programa que leia 3 valores inteiros `a`, `b` e `c` e verifique se eles podem representar os lados de um triângulo.\n",
        "\n",
        "3 medidas formam um triângulo somente se a soma de quaisquer 2 lados for maior do que o terceiro lado. Ou seja:\n",
        "\n",
        "a + b > c\n",
        "\n",
        "b + c > a\n",
        "\n",
        "a + c > b\n"
      ]
    },
    {
      "cell_type": "code",
      "metadata": {
        "id": "_lNW7ztC4V7E"
      },
      "source": [
        "a = int(input(\"Digite o valor de a: \"))\n",
        "b = int(input(\"Digite o valor de b: \"))\n",
        "c = int(input(\"Digite o valor de c: \"))\n",
        "\n",
        "if a + b > c and b + c > a and a + c > b:\n",
        "    print(\"Os valores podem formar um triângulo.\")\n",
        "else:\n",
        "    print(\"Os valores não podem formar um triângulo.\")"
      ],
      "execution_count": null,
      "outputs": []
    },
    {
      "cell_type": "markdown",
      "metadata": {
        "id": "lS0fz8nqSS7M"
      },
      "source": [
        "## IF / ELSE aninhados\n",
        "\n",
        "O modelo de IF-ELSE apresentado permite testar uma condição e selecionar entre dois caminhos diferentes. Mas e quando precisamos testar um\n",
        "número maior de possibilidades?\n",
        "\n",
        "Dentro de um comando condicional, podemos escrever outros comandos condicionais:\n"
      ]
    },
    {
      "cell_type": "code",
      "metadata": {
        "id": "jLedyfMwSWhn",
        "colab": {
          "base_uri": "https://localhost:8080/"
        },
        "outputId": "03f80ab1-8f8a-4795-cb74-9fc27ff5a9da"
      },
      "source": [
        "a = -2\n",
        "if a < 0:\n",
        "  print(\"negativo\")\n",
        "else:\n",
        "  if a == 0:\n",
        "    print(\"zero\") # 2 indentações\n",
        "  else:\n",
        "    print(\"positivo\")\n",
        "print(\"Impressão fora do else mais externo\")"
      ],
      "execution_count": null,
      "outputs": [
        {
          "output_type": "stream",
          "name": "stdout",
          "text": [
            "negativo\n",
            "Impressão fora do else mais externo\n"
          ]
        }
      ]
    },
    {
      "cell_type": "code",
      "metadata": {
        "id": "2GGKcTdiS0dL",
        "colab": {
          "base_uri": "https://localhost:8080/"
        },
        "outputId": "3fe36283-6171-45e2-b99d-3f36000a75b0"
      },
      "source": [
        "idade = int(input(\"Digite sua idade: \"))\n",
        "if idade >= 16:\n",
        "  if idade >= 18 and idade < 70: # ou: idade < 18 or idade >= 70, e invertendo os prints do if/else\n",
        "    print(\"Você pode votar e é obrigado a votar\")\n",
        "  else:\n",
        "    print(\"Você pode votar, mas não é obrigado a votar\")\n",
        "else:\n",
        "  print(\"Você não pode votar\")"
      ],
      "execution_count": null,
      "outputs": [
        {
          "output_type": "stream",
          "name": "stdout",
          "text": [
            "Digite sua idade: 22\n",
            "Você pode votar e é obrigado a votar\n"
          ]
        }
      ]
    },
    {
      "cell_type": "markdown",
      "metadata": {
        "id": "02Hp6HYuQbvc"
      },
      "source": [
        "Exemplo:\n",
        "\n",
        "Escreva\t um\t programa\t para\t ler\t 3\t valores\t (considere\t que\t \t não\t serão\t informados\tvalores\tiguais)\te\tescrever\to\tmaior\tdeles.\n",
        "\n",
        "Entrada:\n",
        "\n",
        "223\n",
        "\n",
        "20\n",
        "\n",
        "10\n",
        "\n",
        "Saída:\n",
        "  223"
      ]
    },
    {
      "cell_type": "code",
      "metadata": {
        "id": "F26XaXOBQluP",
        "colab": {
          "base_uri": "https://localhost:8080/"
        },
        "outputId": "176498ad-7bb0-4f12-eb56-2cdbaca44d9f"
      },
      "source": [
        "a= int (input(\"digite um numero: \"))\n",
        "b= int (input(\"digite um numero: \"))\n",
        "c= int (input (\"digite um numero: \"))\n",
        "if a>b and b>c :\n",
        "  print (a)\n",
        "elif b>a and b>c:\n",
        "  print (b)\n",
        "else:\n",
        "  print (c)"
      ],
      "execution_count": null,
      "outputs": [
        {
          "output_type": "stream",
          "name": "stdout",
          "text": [
            "digite um numero: 7\n",
            "digite um numero: 5\n",
            "digite um numero: 2\n",
            "7\n"
          ]
        }
      ]
    },
    {
      "cell_type": "markdown",
      "metadata": {
        "id": "HA4nwRgM5D9o"
      },
      "source": [
        "##Atividades"
      ]
    },
    {
      "cell_type": "markdown",
      "metadata": {
        "id": "egBtdieh3Seh"
      },
      "source": [
        "**6** - Escreva\tum\tprograma\tpara\tler\t2\tvalores\tinteiros\tindicar qual dos dois é o maior, ou se eles são iguais."
      ]
    },
    {
      "cell_type": "code",
      "metadata": {
        "id": "NjGZKMYWDTyu",
        "colab": {
          "base_uri": "https://localhost:8080/"
        },
        "outputId": "5e0754c2-4da2-44af-fb6e-7d0cbc23d8c1"
      },
      "source": [
        "v1 = int (input ())\n",
        "v2 = int (input ())\n",
        "if v1 > v2 :\n",
        "  print (f\"{v1} eh maior\")\n",
        "else :\n",
        "  if v1==v2 :\n",
        "    print (f\"{v1} e {v2} sao iguais\")\n",
        "  else :\n",
        "    print (f\"{v2} eh o maior\")\n",
        "\n",
        "\n"
      ],
      "execution_count": null,
      "outputs": [
        {
          "output_type": "stream",
          "name": "stdout",
          "text": [
            "5\n",
            "5\n",
            "5 e 5 sao iguais\n"
          ]
        }
      ]
    },
    {
      "cell_type": "markdown",
      "metadata": {
        "id": "_z1f68S-5YkQ"
      },
      "source": [
        "**7** - Faça um programa que leia a idade de uma pessoa e a classifique na faixa etária correspondente:\n",
        "\n",
        "* Criança: idade até 12 anos\n",
        "\n",
        "* Adolescente: idade maior do que 12 e menor do que 18\n",
        "\n",
        "* Adulto: idade igual ou maior do que 18"
      ]
    },
    {
      "cell_type": "code",
      "metadata": {
        "id": "6a4IJSFOz0Ku",
        "colab": {
          "base_uri": "https://localhost:8080/"
        },
        "outputId": "f58d8fc2-541c-4043-a70c-a97a777bee00"
      },
      "source": [
        "id= int (input(\"digite a idade: \" ))\n",
        "if id <=12 :\n",
        "  print (\"Crianca\")\n",
        "elif id >12 and id < 18 :\n",
        "    print (\"Adolescente \")\n",
        "else :\n",
        "    print (\"Adulto\")\n"
      ],
      "execution_count": null,
      "outputs": [
        {
          "output_type": "stream",
          "name": "stdout",
          "text": [
            "digite a idade: 17\n",
            "Adolescente \n"
          ]
        }
      ]
    },
    {
      "cell_type": "markdown",
      "metadata": {
        "id": "kS6n-8D0zyHG"
      },
      "source": [
        "**8** - Faça uma nova versão do exercício do triângulo de modo que, caso os 3 valores formem um triângulo, o programa informe também qual seu tipo: equilátero, isósceles ou escaleno."
      ]
    },
    {
      "cell_type": "code",
      "metadata": {
        "id": "oU41i3vP5YVk"
      },
      "source": [],
      "execution_count": null,
      "outputs": []
    },
    {
      "cell_type": "markdown",
      "metadata": {
        "id": "vyz2pIOK5ptU"
      },
      "source": [
        "**9** - Faça um programa que funcione como uma calculadora simples: leia dois valores numéricos e a operação aritmética a ser executada (+, -, / ou *), calcule e exiba o resultado da referida operação. Avisar se foi digitada uma\n",
        "operação inválida."
      ]
    },
    {
      "cell_type": "code",
      "metadata": {
        "id": "X-shx2UC5uxX"
      },
      "source": [],
      "execution_count": null,
      "outputs": []
    },
    {
      "cell_type": "markdown",
      "metadata": {
        "id": "VMWAlqHnCuNg"
      },
      "source": [
        "# (Extra) Expressão condicional ou Operador Ternário\n",
        "\n",
        "É uma forma alternativa executar um IF com sintaxe mais limpa. O trecho de código:\n",
        "\n",
        "```python\n",
        "if <condição>:\n",
        "  <expressão1>\n",
        "else:\n",
        "  <expressão2>\n",
        "  ```\n",
        "É equivalente a:\n",
        "\n",
        "```python\n",
        "<expressão1> if <condição> else <expressão2>\n",
        "```\n",
        "\n",
        "Se a condição for avaliada como `True`, a `expressão1` é executada; se for avaliada como `False`, será executada a `expressão2`.\n",
        "\n"
      ]
    },
    {
      "cell_type": "code",
      "metadata": {
        "id": "DiaCNWy_CuNh"
      },
      "source": [
        "#if tradicional\n",
        "x = 0\n",
        "if x > 0:\n",
        "  z = 5\n",
        "else:\n",
        "  z = 4\n",
        "print(z)\n",
        "\n",
        "#if ternário\n",
        "x = 0\n",
        "z = 5 if x > 0 else 4\n",
        "print(z)"
      ],
      "execution_count": null,
      "outputs": []
    },
    {
      "cell_type": "code",
      "metadata": {
        "id": "Y4QN-KG_m-dZ"
      },
      "source": [
        "print(\"** Final do semestre **\")\n",
        "nome = \"John\"\n",
        "media = 5\n",
        "print(f\"{nome}, você está {'aprovado' if media>=6 else 'reprovado'}.\")\n",
        "print(\"\\n** Recuperação **\")\n",
        "rec = 8\n",
        "print(f\"{nome}, após a recuperação você está {'aprovado' if rec>=6 else 'reprovado'}.\")"
      ],
      "execution_count": null,
      "outputs": []
    },
    {
      "cell_type": "markdown",
      "metadata": {
        "id": "w4ndVVcU8CQC"
      },
      "source": [
        "##Atividade\n",
        "\n",
        "**10** - Faça um programa que leia a idade de uma pessoa e use o operador ternário para dizer se ela é menor ou maior de idade."
      ]
    },
    {
      "cell_type": "code",
      "metadata": {
        "id": "uzGq_f838ICo"
      },
      "source": [],
      "execution_count": null,
      "outputs": []
    },
    {
      "cell_type": "markdown",
      "metadata": {
        "id": "bjZ_5UwH80Oz"
      },
      "source": [
        "##(Extra) ELIF\n",
        "\n",
        "Algumas linguagens, como é o caso do Python, disponibilizam\n",
        "uma forma alternativa de realizar o IF aninhado de forma mais\n",
        "enxuta: trata-se do comando `elif`.\n",
        "```\n",
        "if <condição1>:\n",
        "  <comandos se a condição 1 é verdadeira>\n",
        "elif <condição2>:\n",
        "  <comandos se a condição 2 é verdadeira>\n",
        "elif <condição3>:\n",
        "  <comandos se a condição 3 é verdadeira>\n",
        "...\n",
        "else\n",
        "  <comandos se nenhuma condição é verdadeira>\n",
        "end\n",
        "```"
      ]
    },
    {
      "cell_type": "code",
      "metadata": {
        "id": "xobpOrBJ9Keo"
      },
      "source": [
        "uf = input(\"Informe a sigla do estado (UF): \")\n",
        "\n",
        "if uf == \"PR\":\n",
        "  print(\"Paraná\")\n",
        "elif uf == \"SC\":\n",
        "  print(\"Santa Catarina\")\n",
        "elif uf == \"RS\":\n",
        "  print(\"Rio Grande do Sul\")\n",
        "else:\n",
        "  print(\"Informação indisponível\")"
      ],
      "execution_count": null,
      "outputs": []
    },
    {
      "cell_type": "markdown",
      "metadata": {
        "id": "A_-0BZ_S-Itn"
      },
      "source": [
        "##Cuidado!!!\n",
        "\n",
        "Embora o `` elif`` seja mais prático, lembre-se que nem toda linguagem possui estrutura semelhante. O ideal é que você aprenda a fazer o ``if`` aninhado sem o uso deste recurso."
      ]
    },
    {
      "cell_type": "markdown",
      "metadata": {
        "id": "AGUhAoScfQDf"
      },
      "source": [
        "## (Extra) Leitura de vários números em uma mesma linha\n",
        "\n",
        "Para ler três números digitados pelo usuário em uma mesma linha, podemos escrever o código a seguir, que é explicado em mais detalhes abaixo:"
      ]
    },
    {
      "cell_type": "code",
      "metadata": {
        "id": "8i96hhz9fSvp",
        "colab": {
          "base_uri": "https://localhost:8080/"
        },
        "outputId": "9e027d91-48eb-40ac-dc4e-20dbe30fc45a"
      },
      "source": [
        "num1, num2, num3 = map(int, input(\"Digite três números inteiros: \").split())\n",
        "\n",
        "print(f\"Primeiro número: {num1}\")\n",
        "print(f\"Segundo número: {num2}\")\n",
        "print(f\"Terceiro número: {num3}\")"
      ],
      "execution_count": null,
      "outputs": [
        {
          "output_type": "stream",
          "name": "stdout",
          "text": [
            "Digite três números inteiros: 1 2 3\n",
            "Primeiro número: 1\n",
            "Segundo número: 2\n",
            "Terceiro número: 3\n"
          ]
        }
      ]
    },
    {
      "cell_type": "markdown",
      "metadata": {
        "id": "oGKGmn-7fXBf"
      },
      "source": [
        "Neste código, a parte\n",
        "\n",
        "<code><b>input(\"Digite três números inteiros: \")</b></code>\n",
        "\n",
        "faz a leitura da informação digitada pelo usuário (os três números inteiros). Já a parte\n",
        "\n",
        "<code>input(\"Digite três números inteiros: \")<b>.split()</b></code>\n",
        "\n",
        "divide a informação lida em três partes, considerando que estas partes estão **separadas por espaço**. Ao escrever\n",
        "\n",
        "<code><b>map(int,</b> input(\"Digite três números inteiros: \").split()<b>)</b></code>\n",
        "\n",
        "convertemos as três partes da informação lida em três valores inteiros. Por fim, ao fazer\n",
        "\n",
        "<code><b>num1, num2, num3 =</b> map(int, input(\"Digite três números inteiros: \").split())</code>\n",
        "\n",
        "colocamos, simultaneamente, os três valores inteiros nas três variáveis `num1`, `num2` e `num3`.\n"
      ]
    }
  ]
}